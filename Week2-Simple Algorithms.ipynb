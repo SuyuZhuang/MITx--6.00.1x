{
 "cells": [
  {
   "cell_type": "markdown",
   "metadata": {},
   "source": [
    "# Week 2"
   ]
  },
  {
   "cell_type": "markdown",
   "metadata": {},
   "source": [
    "## Loop\n",
    "\n",
    "    range(n) = [0,1,2,3,...,n-1]\n",
    "    range(m,n) = [m,m+1,m+2,...,n-1]"
   ]
  },
  {
   "cell_type": "code",
   "execution_count": 4,
   "metadata": {
    "collapsed": false
   },
   "outputs": [
    {
     "name": "stdout",
     "output_type": "stream",
     "text": [
      "3*3=9\n"
     ]
    }
   ],
   "source": [
    "## An example\n",
    "\n",
    "x = 3\n",
    "ans = 0\n",
    "iterLeft =x\n",
    "while (iterLeft != 0):\n",
    "    ans = ans +x\n",
    "    iterLeft = iterLeft -1\n",
    "print (str(x)+'*'+str(x)+'='+str(ans))"
   ]
  },
  {
   "cell_type": "code",
   "execution_count": 10,
   "metadata": {
    "collapsed": false
   },
   "outputs": [
    {
     "name": "stdout",
     "output_type": "stream",
     "text": [
      "2\n",
      "4\n",
      "6\n",
      "8\n",
      "10\n",
      "Goodbye!\n",
      "Hello!\n",
      "10\n",
      "8\n",
      "6\n",
      "4\n",
      "2\n",
      "21\n"
     ]
    }
   ],
   "source": [
    "## L3 Problem 2A\n",
    "## a while loop.\n",
    "\n",
    "i = 1\n",
    "while i <6:\n",
    "    print(i*2)\n",
    "    i = i +1\n",
    "print('Goodbye!')\n",
    "\n",
    "## L3 Problem 2B\n",
    "## a while loop.\n",
    "print('Hello!')\n",
    "i = 5\n",
    "while i >0:\n",
    "    print(i*2)\n",
    "    i = i-1\n",
    "\n",
    "## L3 Problem 2C\n",
    "## Write a while loop that sums the values 1 through 'end'\n",
    "end = 6\n",
    "i = 1\n",
    "sumn = 0\n",
    "while i<end+1:\n",
    "    sumn = sumn+i\n",
    "    i=i+1\n",
    "print sumn"
   ]
  },
  {
   "cell_type": "code",
   "execution_count": 15,
   "metadata": {
    "collapsed": false
   },
   "outputs": [
    {
     "name": "stdout",
     "output_type": "stream",
     "text": [
      "0\n",
      "1\n",
      "2\n",
      "3\n",
      "4\n"
     ]
    }
   ],
   "source": [
    "divisor = 2\n",
    "for num in range(0, 10, 2):\n",
    "    print num/divisor "
   ]
  },
  {
   "cell_type": "code",
   "execution_count": 16,
   "metadata": {
    "collapsed": false
   },
   "outputs": [
    {
     "data": {
      "text/plain": [
       "[0, 2, 4, 6, 8]"
      ]
     },
     "execution_count": 16,
     "metadata": {},
     "output_type": "execute_result"
    }
   ],
   "source": [
    "range(0, 10, 2)"
   ]
  },
  {
   "cell_type": "code",
   "execution_count": 17,
   "metadata": {
    "collapsed": false
   },
   "outputs": [
    {
     "name": "stdout",
     "output_type": "stream",
     "text": [
      "0\n",
      "Foo!\n",
      "4\n",
      "8\n",
      "12\n",
      "16\n",
      "Foo!\n"
     ]
    }
   ],
   "source": [
    "for variable in range(20):\n",
    "    if variable % 4 == 0:\n",
    "        print variable\n",
    "    if variable % 16 == 0:\n",
    "        print 'Foo!'"
   ]
  },
  {
   "cell_type": "code",
   "execution_count": 18,
   "metadata": {
    "collapsed": false
   },
   "outputs": [
    {
     "name": "stdout",
     "output_type": "stream",
     "text": [
      "Letter # 0 is S\n",
      "1\n"
     ]
    }
   ],
   "source": [
    "count = 0\n",
    "for letter in 'Snow!':\n",
    "    print 'Letter # ' + str(count) + ' is ' + str(letter)\n",
    "    count += 1\n",
    "    break\n",
    "print count "
   ]
  },
  {
   "cell_type": "markdown",
   "metadata": {},
   "source": [
    "## Floating point accuracy"
   ]
  },
  {
   "cell_type": "code",
   "execution_count": 36,
   "metadata": {
    "collapsed": false
   },
   "outputs": [
    {
     "name": "stdout",
     "output_type": "stream",
     "text": [
      "10\n"
     ]
    }
   ],
   "source": [
    "num = 2\n",
    "if num <0:\n",
    "    isNeg = True\n",
    "    num = abs(num)\n",
    "else:\n",
    "    isNeg = False\n",
    "result = ''\n",
    "if num == 0:\n",
    "    result = '0'\n",
    "while num > 0:\n",
    "    result = str(num % 2) + result\n",
    "    num = num/2\n",
    "if isNeg:\n",
    "    result = '-' + result\n",
    "print result"
   ]
  },
  {
   "cell_type": "code",
   "execution_count": 49,
   "metadata": {
    "collapsed": false
   },
   "outputs": [
    {
     "name": "stdout",
     "output_type": "stream",
     "text": [
      "Enter a decimal number between 0 and 1: 0.375\n",
      "Remainder = 0.375\n",
      "1\n",
      "Remainder = 0.75\n",
      "2\n",
      "Remainder = 0.5\n",
      "3\n",
      "0\n",
      "The binary representation of the decimal 0.375 is .011\n"
     ]
    }
   ],
   "source": [
    "## Fractions\n",
    "\n",
    "x = float(raw_input('Enter a decimal number between 0 and 1: '))\n",
    "p = 0\n",
    "while((2**p)*x)%1 != 0:\n",
    "    print('Remainder = '+str((2**p)*x - int((2**p)*x)))\n",
    "    p+=1\n",
    "    print(p)\n",
    "\n",
    "num = int(x*(2**p))\n",
    "\n",
    "result = ''\n",
    "if num == 0 :\n",
    "    result = '0'\n",
    "while num >0:\n",
    "    result = str(num%2)+result\n",
    "    num = num/2\n",
    "    \n",
    "for i in range(p - len(result)):\n",
    "    result = '0'+result\n",
    "    \n",
    "print(result[-p])\n",
    "result = result[0:-p]+'.'+result[-p:]  ## ?????\n",
    "print('The binary representation of the decimal '+str(x)+' is '+str(result))"
   ]
  },
  {
   "cell_type": "markdown",
   "metadata": {},
   "source": [
    "## Approxomation method\n",
    "## Exhaustive enumeration"
   ]
  },
  {
   "cell_type": "code",
   "execution_count": 51,
   "metadata": {
    "collapsed": false
   },
   "outputs": [
    {
     "name": "stdout",
     "output_type": "stream",
     "text": [
      "numGuesses = 49990\n",
      "4.999 is close to the square root of 25\n"
     ]
    }
   ],
   "source": [
    "x = 25\n",
    "epsilon = 0.01\n",
    "step = epsilon**2\n",
    "numGuesses = 0\n",
    "ans = 0.0\n",
    "while(abs(ans**2 - x))>=epsilon and ans <=x:\n",
    "    ans += step\n",
    "    numGuesses +=1\n",
    "print('numGuesses = '+str(numGuesses))\n",
    "if abs(ans**2 - x)>=epsilon:\n",
    "    print('Failed on square root of '+str(x))\n",
    "else:\n",
    "    print(str(ans)+' is close to the square root of '+str(x))"
   ]
  },
  {
   "cell_type": "markdown",
   "metadata": {},
   "source": [
    "## Bisection Search\n",
    "\n",
    "work well on problems with 'ordering' property"
   ]
  },
  {
   "cell_type": "code",
   "execution_count": 67,
   "metadata": {
    "collapsed": false
   },
   "outputs": [
    {
     "name": "stdout",
     "output_type": "stream",
     "text": [
      "low = 0.0high = 25ans = 12.5\n",
      "low = 0.0high = 12.5ans = 6.25\n",
      "low = 0.0high = 6.25ans = 3.125\n",
      "low = 3.125high = 6.25ans = 4.6875\n",
      "low = 4.6875high = 6.25ans = 5.46875\n",
      "low = 4.6875high = 5.46875ans = 5.078125\n",
      "low = 4.6875high = 5.078125ans = 4.8828125\n",
      "low = 4.8828125high = 5.078125ans = 4.98046875\n",
      "low = 4.98046875high = 5.078125ans = 5.029296875\n",
      "low = 4.98046875high = 5.029296875ans = 5.0048828125\n",
      "low = 4.98046875high = 5.0048828125ans = 4.99267578125\n",
      "low = 4.99267578125high = 5.0048828125ans = 4.99877929688\n",
      "low = 4.99877929688high = 5.0048828125ans = 5.00183105469\n",
      "numGuesses = 13\n",
      "5.00030517578 is close to square root of 25\n"
     ]
    }
   ],
   "source": [
    "## Example of square root\n",
    "\n",
    "x = 25\n",
    "epsilon = 0.01\n",
    "numGuesses = 0\n",
    "low = 0.0\n",
    "high = x\n",
    "ans = (high+low)/2.0\n",
    "while abs(ans**2 - x)>=epsilon:\n",
    "    print('low = '+str(low)+'high = '+str(high)+'ans = '+str(ans))\n",
    "    numGuesses += 1\n",
    "    if ans**2 <x:\n",
    "        low = ans\n",
    "    else:\n",
    "        high = ans\n",
    "    ans = (low+high)/2.0\n",
    "print('numGuesses = '+str(numGuesses))\n",
    "print(str(ans)+' is close to square root of '+str(x))"
   ]
  },
  {
   "cell_type": "markdown",
   "metadata": {},
   "source": [
    "### Printing on the same line\n",
    "Notice how if we have two print statements        \n",
    "print \"Hi\"\n",
    "print \"there\"\n",
    "\n",
    "The output will have each string on a separate line:\n",
    "Hi\n",
    "there\n",
    "                \n",
    "Now try ading a comma after the print statement:\n",
    "print \"Hi\",\n",
    "print \"there\"\n",
    "                \n",
    "The output will place the subsequent string on the same line:\n",
    "Hi there"
   ]
  },
  {
   "cell_type": "code",
   "execution_count": 11,
   "metadata": {
    "collapsed": false
   },
   "outputs": [
    {
     "name": "stdout",
     "output_type": "stream",
     "text": [
      "Please think of a number between 0 and 100!\n",
      "Is your secret number 50?\n",
      "Enter 'h' to indicate the guess is too high. Enter 'l' to indicate the guess is too low. Enter 'c' to indicate I guessed correctly.c\n",
      "Game over. Your secret number was: 50\n"
     ]
    }
   ],
   "source": [
    "## Secret Number\n",
    "\n",
    "print(\"Please think of a number between 0 and 100!\")\n",
    "n = False\n",
    "low = 0\n",
    "high = 100\n",
    "ans = 50\n",
    "\n",
    "while (not n):\n",
    "    print(\"Is your secret number %d?\"%(ans))\n",
    "    t = raw_input(\"Enter 'h' to indicate the guess is too high. Enter 'l' to indicate the guess is too low. Enter 'c' to indicate I guessed correctly.\")\n",
    "    if t!='h' and t!='l' and t!='c':\n",
    "        print(\"Sorry, I did not understand your input.\")\n",
    "    elif t=='c':\n",
    "        n = True\n",
    "        print(\"Game over. Your secret number was: %d\"%(ans))\n",
    "        break\n",
    "    elif t=='h':\n",
    "        high = ans\n",
    "        ans = (low+high)/2\n",
    "    elif t=='l': \n",
    "        low = ans\n",
    "        ans = (low+high)/2\n",
    "        \n",
    "  \n",
    "        "
   ]
  },
  {
   "cell_type": "markdown",
   "metadata": {
    "collapsed": true
   },
   "source": [
    "## NEWTON-RAPHSON ROOT FINDING"
   ]
  },
  {
   "cell_type": "code",
   "execution_count": 3,
   "metadata": {
    "collapsed": false
   },
   "outputs": [
    {
     "name": "stdout",
     "output_type": "stream",
     "text": [
      "7.0\n",
      "5.21428571429\n",
      "4.90851272016\n",
      "4.89898874321\n",
      "Square root of 24.0 is about 4.89898874321\n"
     ]
    }
   ],
   "source": [
    "epsilon = 0.01\n",
    "y = 24.0\n",
    "guess = y/2.0\n",
    "\n",
    "while abs(guess*guess - y)>= epsilon:\n",
    "    guess = guess-(((guess**2)-y)/(2*guess))\n",
    "    print(guess)\n",
    "print('Square root of '+str(y)+' is about '+str(guess))"
   ]
  },
  {
   "cell_type": "code",
   "execution_count": null,
   "metadata": {
    "collapsed": true
   },
   "outputs": [],
   "source": []
  }
 ],
 "metadata": {
  "kernelspec": {
   "display_name": "Python 2",
   "language": "python",
   "name": "python2"
  },
  "language_info": {
   "codemirror_mode": {
    "name": "ipython",
    "version": 2
   },
   "file_extension": ".py",
   "mimetype": "text/x-python",
   "name": "python",
   "nbconvert_exporter": "python",
   "pygments_lexer": "ipython2",
   "version": "2.7.11"
  }
 },
 "nbformat": 4,
 "nbformat_minor": 0
}
