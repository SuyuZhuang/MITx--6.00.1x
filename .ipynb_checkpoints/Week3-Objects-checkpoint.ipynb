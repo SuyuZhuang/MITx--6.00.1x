{
 "cells": [
  {
   "cell_type": "markdown",
   "metadata": {},
   "source": [
    "## Compound Data Types\n",
    "\n",
    "    1. Tuples\n",
    "    2. Lists\n",
    "    3. Dictionaries"
   ]
  },
  {
   "cell_type": "markdown",
   "metadata": {},
   "source": [
    "## Tuples\n",
    "\n",
    "    1. Ordered sequence of elements\n",
    "    2. Elements can be more than just characters\n",
    "    \n",
    "#### Operations\n",
    "\n",
    "    1. Concatenation  print(t1+t2)\n",
    "    2. Indexing     print((t1+t2)[3])\n",
    "    3. Slicing      print((t1+t2)[2:5])\n",
    "    4. Singletons    t3 = ('five',)\n",
    "   \n",
    "#### Manipulating tuples\n",
    "\n",
    "    Can iterate over tuples just as we can iterate over string\n",
    "    findDivisors(n1,n2)"
   ]
  },
  {
   "cell_type": "code",
   "execution_count": 1,
   "metadata": {
    "collapsed": false
   },
   "outputs": [
    {
     "data": {
      "text/plain": [
       "(1, 'two', 3)"
      ]
     },
     "execution_count": 1,
     "metadata": {},
     "output_type": "execute_result"
    }
   ],
   "source": [
    "t1 = (1, 'two', 3)\n",
    "t1"
   ]
  },
  {
   "cell_type": "code",
   "execution_count": 2,
   "metadata": {
    "collapsed": false
   },
   "outputs": [
    {
     "data": {
      "text/plain": [
       "((1, 'two', 3), 'four')"
      ]
     },
     "execution_count": 2,
     "metadata": {},
     "output_type": "execute_result"
    }
   ],
   "source": [
    "t2 = (t1, 'four')\n",
    "t2"
   ]
  },
  {
   "cell_type": "code",
   "execution_count": 3,
   "metadata": {
    "collapsed": false
   },
   "outputs": [
    {
     "data": {
      "text/plain": [
       "(1, 'two', 3, (1, 'two', 3), 'four')"
      ]
     },
     "execution_count": 3,
     "metadata": {},
     "output_type": "execute_result"
    }
   ],
   "source": [
    "t1+t2"
   ]
  },
  {
   "cell_type": "code",
   "execution_count": 4,
   "metadata": {
    "collapsed": false
   },
   "outputs": [
    {
     "name": "stdout",
     "output_type": "stream",
     "text": [
      "(1, 'two', 3)\n"
     ]
    }
   ],
   "source": [
    "print((t1+t2)[3])"
   ]
  },
  {
   "cell_type": "code",
   "execution_count": 5,
   "metadata": {
    "collapsed": false
   },
   "outputs": [
    {
     "data": {
      "text/plain": [
       "(3, (1, 'two', 3), 'four')"
      ]
     },
     "execution_count": 5,
     "metadata": {},
     "output_type": "execute_result"
    }
   ],
   "source": [
    "(t1+t2)[2:5]"
   ]
  },
  {
   "cell_type": "code",
   "execution_count": 8,
   "metadata": {
    "collapsed": false
   },
   "outputs": [
    {
     "data": {
      "text/plain": [
       "(1, 'two', 3, (1, 'two', 3), 'four', 'five')"
      ]
     },
     "execution_count": 8,
     "metadata": {},
     "output_type": "execute_result"
    }
   ],
   "source": [
    "t3 = ('five',)\n",
    "t1+t2+t3"
   ]
  },
  {
   "cell_type": "code",
   "execution_count": 9,
   "metadata": {
    "collapsed": false
   },
   "outputs": [
    {
     "data": {
      "text/plain": [
       "(3,)"
      ]
     },
     "execution_count": 9,
     "metadata": {},
     "output_type": "execute_result"
    }
   ],
   "source": [
    "(3,)"
   ]
  },
  {
   "cell_type": "code",
   "execution_count": 17,
   "metadata": {
    "collapsed": false
   },
   "outputs": [
    {
     "name": "stdout",
     "output_type": "stream",
     "text": [
      "(1, 2, 5, 10)\n",
      "18\n"
     ]
    }
   ],
   "source": [
    "def findDivisors(n1,n2):\n",
    "    divisors = () # the empty tuple\n",
    "    for i in range(1,min(n1,n2)+1):\n",
    "        if n1%i == 0 and n2%i == 0:\n",
    "            divisors = divisors+(i,)\n",
    "    return divisors\n",
    "d = findDivisors(10,20)\n",
    "total = 0\n",
    "for i in d:\n",
    "    total += i\n",
    "print d\n",
    "print total"
   ]
  },
  {
   "cell_type": "code",
   "execution_count": 48,
   "metadata": {
    "collapsed": false
   },
   "outputs": [
    {
     "ename": "TypeError",
     "evalue": "'tuple' object does not support item assignment",
     "output_type": "error",
     "traceback": [
      "\u001b[1;31m---------------------------------------------------------------------------\u001b[0m",
      "\u001b[1;31mTypeError\u001b[0m                                 Traceback (most recent call last)",
      "\u001b[1;32m<ipython-input-48-61572b8745fb>\u001b[0m in \u001b[0;36m<module>\u001b[1;34m()\u001b[0m\n\u001b[0;32m      1\u001b[0m \u001b[0mx\u001b[0m \u001b[1;33m=\u001b[0m \u001b[1;33m(\u001b[0m\u001b[1;36m1\u001b[0m\u001b[1;33m,\u001b[0m \u001b[1;36m2\u001b[0m\u001b[1;33m,\u001b[0m \u001b[1;33m(\u001b[0m\u001b[1;36m3\u001b[0m\u001b[1;33m,\u001b[0m \u001b[1;34m'John'\u001b[0m\u001b[1;33m,\u001b[0m \u001b[1;36m4\u001b[0m\u001b[1;33m)\u001b[0m\u001b[1;33m,\u001b[0m \u001b[1;34m'Hi'\u001b[0m\u001b[1;33m)\u001b[0m\u001b[1;33m\u001b[0m\u001b[0m\n\u001b[1;32m----> 2\u001b[1;33m \u001b[0mx\u001b[0m\u001b[1;33m[\u001b[0m\u001b[1;36m0\u001b[0m\u001b[1;33m]\u001b[0m \u001b[1;33m=\u001b[0m \u001b[1;36m5\u001b[0m\u001b[1;33m\u001b[0m\u001b[0m\n\u001b[0m",
      "\u001b[1;31mTypeError\u001b[0m: 'tuple' object does not support item assignment"
     ]
    }
   ],
   "source": [
    "x = (1, 2, (3, 'John', 4), 'Hi')"
   ]
  },
  {
   "cell_type": "markdown",
   "metadata": {},
   "source": [
    "### L6 PROBLEM 2"
   ]
  },
  {
   "cell_type": "code",
   "execution_count": 38,
   "metadata": {
    "collapsed": false
   },
   "outputs": [
    {
     "data": {
      "text/plain": [
       "[0, 1, 2, 3, 4]"
      ]
     },
     "execution_count": 38,
     "metadata": {},
     "output_type": "execute_result"
    }
   ],
   "source": [
    "\n",
    "def oddTuples(aTup):\n",
    "    '''\n",
    "    aTup: a tuple\n",
    "    \n",
    "    returns: tuple, every other element of aTup. \n",
    "    '''\n",
    "    # Your Code Here\n",
    "    new = ()\n",
    "    for i in range(0,len(aTup)):\n",
    "        if i%2 == 0:\n",
    "            new = new + (aTup[i],)\n",
    "    return new\n",
    "\n",
    "oddTuples(())\n",
    "range(0,5)"
   ]
  },
  {
   "cell_type": "markdown",
   "metadata": {},
   "source": [
    "## List\n",
    "\n",
    "    1. Ordered sequence of values, each identified by an index\n",
    "    2. Use [1,2,3] rather than (1,2,3)\n",
    "    3. Singeltons are now just [4] rather than (4,)\n",
    "\n",
    "**List are mutable!**\n",
    "    1. While tuple, int, float, str are immutable\n",
    "    2. So lists can be modified after they are crated!\n",
    "    3. append versus flatten\n",
    "    \n",
    "#### Operations on lists\n",
    "\n",
    "    1. Iteration\n",
    "    2. Cloning\n",
    "    "
   ]
  },
  {
   "cell_type": "code",
   "execution_count": 63,
   "metadata": {
    "collapsed": false
   },
   "outputs": [
    {
     "name": "stdout",
     "output_type": "stream",
     "text": [
      "['MIT', 'Cal Tech', 'Harvard', 'Yale', 'Brown']\n",
      "[['MIT', 'Cal Tech'], ['Harvard', 'Yale', 'Brown']]\n",
      "new list2 is: ['u3', 'u4', 'u5', 'append']\n"
     ]
    }
   ],
   "source": [
    "Techs = ['MIT','Cal Tech']\n",
    "Ivys = ['Harvard','Yale','Brown']\n",
    "flat = Techs+Ivys\n",
    "print flat\n",
    "Univs = [Techs,Ivys]\n",
    "print Univs\n",
    "Techs.append('RPI')\n",
    "print 'new list2 is:',list2"
   ]
  },
  {
   "cell_type": "code",
   "execution_count": 62,
   "metadata": {
    "collapsed": false
   },
   "outputs": [
    {
     "name": "stdout",
     "output_type": "stream",
     "text": [
      "Univs contains\n",
      "['MIT', 'Cal Tech', 'RPI']\n",
      " watch contains\n",
      " MIT\n",
      " Cal Tech\n",
      " RPI\n",
      "Univs contains\n",
      "['Harvard', 'Yale', 'Brown']\n",
      " watch contains\n",
      " Harvard\n",
      " Yale\n",
      " Brown\n"
     ]
    }
   ],
   "source": [
    "for e in Univs:\n",
    "    print('Univs contains')\n",
    "    print(e)\n",
    "    print(' watch contains')\n",
    "    for u in e:\n",
    "        print(' '+u)"
   ]
  },
  {
   "cell_type": "code",
   "execution_count": 50,
   "metadata": {
    "collapsed": false
   },
   "outputs": [
    {
     "data": {
      "text/plain": [
       "[0, 1, 2]"
      ]
     },
     "execution_count": 50,
     "metadata": {},
     "output_type": "execute_result"
    }
   ],
   "source": [
    "range(3)"
   ]
  },
  {
   "cell_type": "code",
   "execution_count": 58,
   "metadata": {
    "collapsed": false
   },
   "outputs": [
    {
     "data": {
      "text/plain": [
       "[1, 4, 7]"
      ]
     },
     "execution_count": 58,
     "metadata": {},
     "output_type": "execute_result"
    }
   ],
   "source": [
    "range(1,10,3)"
   ]
  },
  {
   "cell_type": "code",
   "execution_count": 57,
   "metadata": {
    "collapsed": false
   },
   "outputs": [
    {
     "data": {
      "text/plain": [
       "[10, 9, 8, 7, 6, 5, 4]"
      ]
     },
     "execution_count": 57,
     "metadata": {},
     "output_type": "execute_result"
    }
   ],
   "source": [
    "range(10,3,-1)"
   ]
  },
  {
   "cell_type": "code",
   "execution_count": 68,
   "metadata": {
    "collapsed": false
   },
   "outputs": [
    {
     "name": "stdout",
     "output_type": "stream",
     "text": [
      "[2, 3, 4]\n",
      "[3, 4]\n"
     ]
    }
   ],
   "source": [
    "def removeDups(L1,L2):\n",
    "    for e1 in L1:\n",
    "        if e1 in L2:\n",
    "            L1.remove(e1)\n",
    "            \n",
    "L1 = [1,2,3,4]\n",
    "L2 = [1,2,5,6]\n",
    "removeDups(L1,L2)\n",
    "print L1\n",
    "\n",
    "            \n",
    "L1 = [1,2,3,4]\n",
    "L2 = [1,2,5,6]\n",
    "def removeDupsCloning(L1,L2):\n",
    "    L1Start = L1[:]\n",
    "    for e1 in L1Start:\n",
    "        if e1 in L2:\n",
    "            L1.remove(e1)\n",
    "removeDupsCloning(L1,L2)\n",
    "print L1"
   ]
  },
  {
   "cell_type": "code",
   "execution_count": 78,
   "metadata": {
    "collapsed": false
   },
   "outputs": [
    {
     "data": {
      "text/plain": [
       "True"
      ]
     },
     "execution_count": 78,
     "metadata": {},
     "output_type": "execute_result"
    }
   ],
   "source": [
    "alist = range(1,6)\n",
    "blist = alist\n",
    "alist[2] = 'H'\n",
    "alist is blist"
   ]
  },
  {
   "cell_type": "code",
   "execution_count": 85,
   "metadata": {
    "collapsed": false
   },
   "outputs": [
    {
     "data": {
      "text/plain": [
       "[6, 5, 4, 3, 2]"
      ]
     },
     "execution_count": 85,
     "metadata": {},
     "output_type": "execute_result"
    }
   ],
   "source": [
    ">>> cList = range(6, 1, -1)\n",
    ">>> dList = []\n",
    ">>> for num in cList:\n",
    "        dList.append(num)\n",
    ">>> dList\n",
    ">>> cList\n",
    ">>> cList[2] = 20\n",
    ">>> cList\n",
    ">>> dList"
   ]
  },
  {
   "cell_type": "code",
   "execution_count": 98,
   "metadata": {
    "collapsed": false
   },
   "outputs": [
    {
     "data": {
      "text/plain": [
       "['s', 2, 3, 4, 5]"
      ]
     },
     "execution_count": 98,
     "metadata": {},
     "output_type": "execute_result"
    }
   ],
   "source": [
    "a = [1,2,3,4,5]\n",
    "b = a\n",
    "a[0] = 's'\n",
    "b"
   ]
  },
  {
   "cell_type": "code",
   "execution_count": 125,
   "metadata": {
    "collapsed": false,
    "scrolled": true
   },
   "outputs": [
    {
     "data": {
      "text/plain": [
       "[4, 3, 6, 1, 4, 4, 1, 0, 100]"
      ]
     },
     "execution_count": 125,
     "metadata": {},
     "output_type": "execute_result"
    }
   ],
   "source": [
    "listA = [1, 4, 3, 0]\n",
    "listB = ['x', 'z', 't', 'q']\n",
    "listA.sort()\n",
    "listA.insert(0, 100)\n",
    "listA.remove(3)\n",
    "listA.append(7)\n",
    "listA + listB\n",
    "listB.sort()\n",
    "listB.pop()\n",
    "listB.count('a')\n",
    "listA.extend([4, 1, 6, 3, 4])\n",
    "listA.count(4)\n",
    "listA.pop(4)\n",
    "listA.reverse()\n",
    "listA"
   ]
  },
  {
   "cell_type": "code",
   "execution_count": 3,
   "metadata": {
    "collapsed": false
   },
   "outputs": [
    {
     "name": "stdout",
     "output_type": "stream",
     "text": [
      "('abs:', [1, 2, 3.4])\n",
      "('int:', [1, 2, 3])\n",
      "4.5\n",
      "4\n"
     ]
    }
   ],
   "source": [
    "L = [1,-2,3.4]\n",
    "def applyToEach(L,f):\n",
    "    for i in range(len(L)):\n",
    "        L[i] = f(L[i])\n",
    "applyToEach(L,abs)\n",
    "print('abs:',L)\n",
    "\n",
    "applyToEach(L,int)\n",
    "print('int:',L) \n",
    "\n",
    "#applyToEach(L,fact)\n",
    "#print('fact:',L)\n",
    "\n",
    "#applyToEach(L,fib)\n",
    "#print('fib:',L)\n",
    "\n",
    "def applyfuns(L,x):\n",
    "    for f in L:\n",
    "        print(f(x))\n",
    "applyfuns([abs,int],4.5)"
   ]
  },
  {
   "cell_type": "code",
   "execution_count": 4,
   "metadata": {
    "collapsed": false
   },
   "outputs": [
    {
     "data": {
      "text/plain": [
       "[1, 2, 3.4]"
      ]
     },
     "execution_count": 4,
     "metadata": {},
     "output_type": "execute_result"
    }
   ],
   "source": [
    "map(abs,[1,-2,3.4])"
   ]
  },
  {
   "cell_type": "code",
   "execution_count": 6,
   "metadata": {
    "collapsed": false
   },
   "outputs": [
    {
     "data": {
      "text/plain": [
       "[1, 2, 7, None]"
      ]
     },
     "execution_count": 6,
     "metadata": {},
     "output_type": "execute_result"
    }
   ],
   "source": [
    "L1 = [1,3,9,8]\n",
    "L2 = [3,2,7]\n",
    "map(min,L1,L2)"
   ]
  },
  {
   "cell_type": "markdown",
   "metadata": {},
   "source": [
    "## Dictionaries\n",
    "\n",
    "    1. Insertion\n",
    "    2. Iteration"
   ]
  },
  {
   "cell_type": "code",
   "execution_count": 7,
   "metadata": {
    "collapsed": true
   },
   "outputs": [],
   "source": [
    "monthNumbers = {'Jan':1,'Feb':2,'Mar':3,1:'Jan',2:'Feb',3:'Mar'}"
   ]
  },
  {
   "cell_type": "code",
   "execution_count": 12,
   "metadata": {
    "collapsed": false
   },
   "outputs": [],
   "source": [
    "monthNumbers['Apr'] = 4"
   ]
  },
  {
   "cell_type": "code",
   "execution_count": 14,
   "metadata": {
    "collapsed": false
   },
   "outputs": [
    {
     "ename": "AttributeError",
     "evalue": "'dict' object has no attribute 'append'",
     "output_type": "error",
     "traceback": [
      "\u001b[1;31m---------------------------------------------------------------------------\u001b[0m",
      "\u001b[1;31mAttributeError\u001b[0m                            Traceback (most recent call last)",
      "\u001b[1;32m<ipython-input-14-f8bd132e7bd4>\u001b[0m in \u001b[0;36m<module>\u001b[1;34m()\u001b[0m\n\u001b[0;32m      1\u001b[0m \u001b[0mcollect\u001b[0m \u001b[1;33m=\u001b[0m \u001b[1;33m{\u001b[0m\u001b[1;33m}\u001b[0m\u001b[1;33m\u001b[0m\u001b[0m\n\u001b[0;32m      2\u001b[0m \u001b[1;32mfor\u001b[0m \u001b[0me\u001b[0m \u001b[1;32min\u001b[0m \u001b[0mmonthNumbers\u001b[0m\u001b[1;33m:\u001b[0m\u001b[1;33m\u001b[0m\u001b[0m\n\u001b[1;32m----> 3\u001b[1;33m     \u001b[0mcollect\u001b[0m\u001b[1;33m.\u001b[0m\u001b[0mappend\u001b[0m\u001b[1;33m(\u001b[0m\u001b[0me\u001b[0m\u001b[1;33m)\u001b[0m\u001b[1;33m\u001b[0m\u001b[0m\n\u001b[0m\u001b[0;32m      4\u001b[0m \u001b[0mcollect\u001b[0m  \u001b[1;31m#put in the keys\u001b[0m\u001b[1;33m\u001b[0m\u001b[0m\n",
      "\u001b[1;31mAttributeError\u001b[0m: 'dict' object has no attribute 'append'"
     ]
    }
   ],
   "source": [
    "collect = []  #List\n",
    "for e in monthNumbers:\n",
    "    collect.append(e)\n",
    "collect  #put in the keys\n"
   ]
  },
  {
   "cell_type": "code",
   "execution_count": null,
   "metadata": {
    "collapsed": true
   },
   "outputs": [],
   "source": []
  }
 ],
 "metadata": {
  "kernelspec": {
   "display_name": "Python 2",
   "language": "python",
   "name": "python2"
  },
  "language_info": {
   "codemirror_mode": {
    "name": "ipython",
    "version": 2
   },
   "file_extension": ".py",
   "mimetype": "text/x-python",
   "name": "python",
   "nbconvert_exporter": "python",
   "pygments_lexer": "ipython2",
   "version": "2.7.11"
  }
 },
 "nbformat": 4,
 "nbformat_minor": 0
}
