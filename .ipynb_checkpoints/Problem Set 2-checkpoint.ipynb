{
 "cells": [
  {
   "cell_type": "markdown",
   "metadata": {},
   "source": [
    "# PAYING OFF CREDIT CARD DEBT"
   ]
  },
  {
   "cell_type": "markdown",
   "metadata": {},
   "source": [
    "Each month, a credit card statement will come with the option for you to pay a minimum amount of your charge, usually 2% of the balance due. However, the credit card company earns money by charging interest on the balance that you don't pay. So even if you pay credit card payments on time, interest is still accruing on the outstanding balance.\n",
    "\n",
    "Say you've made a $5,000 purchase on a credit card with an 18% annual interest rate and a 2% minimum monthly payment rate. If you only pay the minimum monthly amount for a year, how much is the remaining balance?\n",
    "\n",
    "You can think about this in the following way.\n",
    "\n",
    "At the beginning of month 0 (when the credit card statement arrives), assume you owe an amount we will call b0 (b for balance; subscript 0 to indicate this is the balance at month 0).\n",
    "\n",
    "Any payment you make during that month is deducted from the balance. Let's call the payment you make in month 0, p0. Thus, your unpaid balance for month 0, ub0, is equal to b0−p0.\n",
    "\n",
    "**ub0=b0−p0**\n",
    "\n",
    "At the beginning of month 1, the credit card company will charge you interest on your unpaid balance. So if your annual interest rate is r, then at the beginning of month 1, your new balance is your previous unpaid balance ub0, plus the interest on this unpaid balance for the month. In algebra, this new balance would be\n",
    "\n",
    "**b1=ub0+r12.0⋅ub0**\n",
    "\n",
    "In month 1, we will make another payment, p1. That payment has to cover some of the interest costs, so it does not completely go towards paying off the original charge. The balance at the beginning of month 2, b2, can be calculated by first calculating the unpaid balance after paying p1, then by adding the interest accrued:\n",
    "\n",
    "**ub1=b1−p1\n",
    "b2=ub1+r12.0⋅ub1**\n",
    "\n",
    "If you choose just to pay off the minimum monthly payment each month, you will see that the compound interest will dramatically reduce your ability to lower your debt.\n",
    "\n",
    "Let's look at an example. If you've got a $5,000 balance on a credit card with 18% annual interest rate, and the minimum monthly payment is 2% of the current balance, we would have the following repayment schedule if you only pay the minimum payment each month:\n",
    "\n",
    "\n",
    "| Month | Balance                     | Minimum Payment          | Unpaid Balance              | Interest                      |\n",
    "|-------|-----------------------------|--------------------------|-----------------------------|-------------------------------|\n",
    "| 0     | 5000.00                     |    100 (= 5000 * 0.02)   | 4900 (= 5000 - 100)         | 73.50 (= 0.18/12.0 * 4900)    |\n",
    "| 1     | 4973.50 (= 4900 + 73.50)    | 99.47 (= 4973.50 * 0.02) | 4874.03 (= 4973.50 - 99.47) | 73.11 (= 0.18/12.0 * 4874.03) |\n",
    "| 2     | 4947.14 (= 4874.03 + 73.11) | 98.94 (= 4947.14 * 0.02) | 4848.20 (= 4947.14 - 98.94) | 72.72 (= 0.18/12.0 * 4848.20) |\n",
    "\n",
    "You can see that a lot of your payment is going to cover interest, and if you work this through month 12, you will see that after a year, you will have paid $1165.63 and yet you will still owe $4691.11 on what was originally a $5000.00 debt. Pretty depressing!"
   ]
  },
  {
   "cell_type": "markdown",
   "metadata": {},
   "source": [
    "# PROBLEM 1: PAYING THE MINIMUM"
   ]
  },
  {
   "cell_type": "markdown",
   "metadata": {},
   "source": [
    "Write a program to calculate the credit card balance after one year if a person only pays the minimum monthly payment required by the credit card company each month.\n",
    "\n",
    "The following variables contain values as described below:\n",
    "\n",
    "balance - the outstanding balance on the credit card\n",
    "\n",
    "annualInterestRate - annual interest rate as a decimal\n",
    "\n",
    "monthlyPaymentRate - minimum monthly payment rate as a decimal\n",
    "\n",
    "For each month, calculate statements on the monthly payment and remaining balance, and print to screen something of the format:"
   ]
  },
  {
   "cell_type": "markdown",
   "metadata": {},
   "source": [
    "|Month: 1              |\n",
    "|-----------------------------|\n",
    "|Minimum monthly payment: 96.0| \n",
    "|Remaining balance: 4784.0   |"
   ]
  },
  {
   "cell_type": "markdown",
   "metadata": {},
   "source": [
    "Be sure to print out no more than two decimal digits of accuracy - so print\n",
    "\n",
    "Remaining balance: 813.41\n",
    "instead of\n",
    "\n",
    "Remaining balance: 813.4141998135 \n",
    "Finally, print out the total amount paid that year and the remaining balance at the end of the year in the format:\n",
    "\n",
    "Total paid: 96.0\n",
    "Remaining balance: 4784.0\n",
    "A summary of the required math is found below:\n",
    "\n",
    "Monthly interest rate= (Annual interest rate) / 12.0\n",
    "Minimum monthly payment = (Minimum monthly payment rate) x (Previous balance)\n",
    "Monthly unpaid balance = (Previous balance) - (Minimum monthly payment)\n",
    "Updated balance each month = (Monthly unpaid balance) + (Monthly interest rate x Monthly unpaid balance)\n",
    "\n",
    "Note that the grading script looks for the order in which each value is printed out. We provide sample test cases below; we suggest you develop your code on your own machine, and make sure your code passes the sample test cases, before you paste it into the box below."
   ]
  },
  {
   "cell_type": "code",
   "execution_count": 87,
   "metadata": {
    "collapsed": false
   },
   "outputs": [],
   "source": [
    "balance = 4213\n",
    "monthlyPaymentRate = 0.04\n",
    "annualInterestRate = 0.2"
   ]
  },
  {
   "cell_type": "code",
   "execution_count": 88,
   "metadata": {
    "collapsed": false
   },
   "outputs": [
    {
     "name": "stdout",
     "output_type": "stream",
     "text": [
      "Month: 1\n",
      "Minimum monthly payment: 168.52\n",
      "Remaining balance: 4111.888000\n",
      "Month: 2\n",
      "Minimum monthly payment: 164.48\n",
      "Remaining balance: 4013.202688\n",
      "Month: 3\n",
      "Minimum monthly payment: 160.53\n",
      "Remaining balance: 3916.885823\n",
      "Month: 4\n",
      "Minimum monthly payment: 156.68\n",
      "Remaining balance: 3822.880564\n",
      "Month: 5\n",
      "Minimum monthly payment: 152.92\n",
      "Remaining balance: 3731.131430\n",
      "Month: 6\n",
      "Minimum monthly payment: 149.25\n",
      "Remaining balance: 3641.584276\n",
      "Month: 7\n",
      "Minimum monthly payment: 145.66\n",
      "Remaining balance: 3554.186253\n",
      "Month: 8\n",
      "Minimum monthly payment: 142.17\n",
      "Remaining balance: 3468.885783\n",
      "Month: 9\n",
      "Minimum monthly payment: 138.76\n",
      "Remaining balance: 3385.632524\n",
      "Month: 10\n",
      "Minimum monthly payment: 135.43\n",
      "Remaining balance: 3304.377344\n",
      "Month: 11\n",
      "Minimum monthly payment: 132.18\n",
      "Remaining balance: 3225.072288\n",
      "Month: 12\n",
      "Minimum monthly payment: 129.00\n",
      "Remaining balance: 3147.670553\n",
      "Total paid: 1775.55\n",
      "Remaining balance: 3147.67\n"
     ]
    }
   ],
   "source": [
    "Minimum_monthly_payment = 0\n",
    "Remaining_balance = 0\n",
    "Total_paid = 0\n",
    "for i in range(12):\n",
    "    Minimum_monthly_payment = balance*monthlyPaymentRate\n",
    "    Remaining_balance = balance - Minimum_monthly_payment\n",
    "    Total_paid = Total_paid + Minimum_monthly_payment\n",
    "    balance =  Remaining_balance * (1+annualInterestRate/12.0)\n",
    "    print(\"Month: %d\"%(i+1))\n",
    "    print(\"Minimum monthly payment: %.2f\"%Minimum_monthly_payment)\n",
    "    print(\"Remaining balance: %.2f\"%balance)\n",
    "    \n",
    "print(\"Total paid: %.2f\"%Total_paid)\n",
    "print(\"Remaining balance: %.2f\"%balance)"
   ]
  },
  {
   "cell_type": "markdown",
   "metadata": {},
   "source": [
    "# PROBLEM 2: PAYING DEBT OFF IN A YEAR"
   ]
  },
  {
   "cell_type": "markdown",
   "metadata": {},
   "source": [
    "Now write a program that calculates the minimum fixed monthly payment needed in order pay off a credit card balance within 12 months. By a fixed monthly payment, we mean a single number which does not change each month, but instead is a constant amount that will be paid each month.\n",
    "\n",
    "In this problem, we will not be dealing with a minimum monthly payment rate.\n",
    "\n",
    "The following variables contain values as described below:\n",
    "\n",
    "balance - the outstanding balance on the credit card\n",
    "\n",
    "annualInterestRate - annual interest rate as a decimal\n",
    "\n",
    "The program should print out one line: the lowest monthly payment that will pay off all debt in under 1 year, for example:\n",
    "\n",
    "Lowest Payment: 180 \n",
    "Assume that the interest is compounded monthly according to the balance at the end of the month (after the payment for that month is made). The monthly payment must be a multiple of $10 and is the same for all months. Notice that it is possible for the balance to become negative using this payment scheme, which is okay. A summary of the required math is found below:\n",
    "\n",
    "Monthly interest rate = (Annual interest rate) / 12.0\n",
    "Monthly unpaid balance = (Previous balance) - (Minimum fixed monthly payment)\n",
    "Updated balance each month = (Monthly unpaid balance) + (Monthly interest rate x Monthly unpaid balance)"
   ]
  },
  {
   "cell_type": "code",
   "execution_count": 104,
   "metadata": {
    "collapsed": true
   },
   "outputs": [],
   "source": [
    "balance =   3329\n",
    "annualInterestRate =  0.2"
   ]
  },
  {
   "cell_type": "code",
   "execution_count": 105,
   "metadata": {
    "collapsed": false
   },
   "outputs": [
    {
     "name": "stdout",
     "output_type": "stream",
     "text": [
      "Lowest Payment: 310\n"
     ]
    }
   ],
   "source": [
    "fixed_lowest_payment = 10\n",
    "while True:\n",
    "    Updated_balance_each_month = balance\n",
    "    for i in range(12):\n",
    "        unpaid_balance = Updated_balance_each_month - fixed_lowest_payment\n",
    "        Updated_balance_each_month = unpaid_balance + (annualInterestRate/12.0) *unpaid_balance\n",
    "    if  unpaid_balance >0:\n",
    "        fixed_lowest_payment = fixed_lowest_payment+10\n",
    "    else:\n",
    "        break\n",
    "print(\"Lowest Payment: %d\"%fixed_lowest_payment)"
   ]
  },
  {
   "cell_type": "code",
   "execution_count": 129,
   "metadata": {
    "collapsed": false
   },
   "outputs": [
    {
     "name": "stdout",
     "output_type": "stream",
     "text": [
      "unpaid_balance: 0\n"
     ]
    }
   ],
   "source": [
    "balance =   3329\n",
    "annualInterestRate =  0.2\n",
    "fixed_lowest_payment = 303.32\n",
    "Updated_balance_each_month = balance\n",
    "for i in range(12):\n",
    "    unpaid_balance = Updated_balance_each_month - fixed_lowest_payment\n",
    "    Updated_balance_each_month = unpaid_balance + (annualInterestRate/12.0) *unpaid_balance\n",
    "print(\"unpaid_balance: %d\"%unpaid_balance)"
   ]
  },
  {
   "cell_type": "markdown",
   "metadata": {},
   "source": [
    "# PROBLEM 3: USING BISECTION SEARCH TO MAKE THE PROGRAM FASTER"
   ]
  },
  {
   "cell_type": "markdown",
   "metadata": {},
   "source": [
    "You'll notice that in Problem 2, your monthly payment had to be a multiple of 10.\n",
    "Why did we make it that way? You can try running your code locally so that the payment can be any dollar and cent amount (in other words, the monthly payment is a multiple of $0.01).\n",
    "Does your code still work? It should, but you may notice that your code runs more slowly, especially in cases with very large balances and interest rates. (Note: when your code is running on our servers, there are limits on the amount of computing time each submission is allowed, so your observations from running this experiment on the grading system might be limited to an error message complaining about too much time taken.)\n",
    "\n",
    "Well then, how can we calculate a more accurate fixed monthly payment than we did in Problem 2 without running into the problem of slow code? We can make this program run faster using a technique introduced in lecture - bisection search!\n",
    "\n",
    "The following variables contain values as described below:\n",
    "\n",
    "balance - the outstanding balance on the credit card\n",
    "\n",
    "annualInterestRate - annual interest rate as a decimal\n",
    "\n",
    "To recap the problem: we are searching for the smallest monthly payment such that we can pay off the entire balance within a year. What is a reasonable lower bound for this payment value? $0 is the obvious anwer, but you can do better than that. If there was no interest, the debt can be paid off by monthly payments of one-twelfth of the original balance, so we must pay at least this much every month. One-twelfth of the original balance is a good lower bound.\n",
    "\n",
    "What is a good upper bound? Imagine that instead of paying monthly, we paid off the entire balance at the end of the year. What we ultimately pay must be greater than what we would've paid in monthly installments, because the interest was compounded on the balance we didn't pay off each month. So a good upper bound for the monthly payment would be one-twelfth of the balance, after having its interest compounded monthly for an entire year.\n",
    "\n",
    "In short:\n",
    "\n",
    "Monthly interest rate = (Annual interest rate) / 12.0\n",
    "Monthly payment lower bound = Balance / 12\n",
    "Monthly payment upper bound = (Balance x (1 + Monthly interest rate)12) / 12.0\n",
    "\n",
    "Write a program that uses these bounds and bisection search (for more info check out the Wikipedia page on bisection search) to find the smallest monthly payment to the cent (no more multiples of $10) such that we can pay off the debt within a year. Try it out with large inputs, and notice how fast it is (try the same large inputs in your solution to Problem 2 to compare!). Produce the same return value as you did in Problem 2.\n",
    "\n",
    "Note that if you do not use bisection search, your code will not run - your code only has 30 seconds to run on our servers."
   ]
  },
  {
   "cell_type": "code",
   "execution_count": 127,
   "metadata": {
    "collapsed": true
   },
   "outputs": [],
   "source": [
    "balance =  3329\n",
    "annualInterestRate =  0.2"
   ]
  },
  {
   "cell_type": "code",
   "execution_count": 130,
   "metadata": {
    "collapsed": false
   },
   "outputs": [
    {
     "name": "stdout",
     "output_type": "stream",
     "text": [
      "Lowest Payment: 303.32\n"
     ]
    }
   ],
   "source": [
    "MonthlyInterestRate = annualInterestRate / 12.0\n",
    "MonthlyPaymentLowerBound = balance / 12\n",
    "MonthlyPaymentUpperBound = (balance * (1 + MonthlyInterestRate)**12) / 12.0\n",
    "\n",
    "ans = (MonthlyPaymentLowerBound +MonthlyPaymentUpperBound)/2.0\n",
    "\n",
    "while True:\n",
    "    Updated_balance_each_month = balance\n",
    "    for i in range(12):\n",
    "        unpaid_balance = Updated_balance_each_month - ans\n",
    "        Updated_balance_each_month = unpaid_balance + (annualInterestRate/12.0) *unpaid_balance\n",
    "    if  unpaid_balance <0 and abs(unpaid_balance)>0.001:\n",
    "        MonthlyPaymentUpperBound = ans\n",
    "        ans = (MonthlyPaymentLowerBound +MonthlyPaymentUpperBound)/2.0\n",
    "    elif unpaid_balance >0 and abs(unpaid_balance)>0.001:\n",
    "        MonthlyPaymentLowerBound = ans\n",
    "        ans = (MonthlyPaymentLowerBound +MonthlyPaymentUpperBound)/2.0\n",
    "    elif abs(unpaid_balance)<0.001:\n",
    "        break\n",
    "print(\"Lowest Payment: %.2f\"%ans)"
   ]
  },
  {
   "cell_type": "code",
   "execution_count": null,
   "metadata": {
    "collapsed": false
   },
   "outputs": [],
   "source": []
  },
  {
   "cell_type": "code",
   "execution_count": null,
   "metadata": {
    "collapsed": true
   },
   "outputs": [],
   "source": []
  }
 ],
 "metadata": {
  "kernelspec": {
   "display_name": "Python 2",
   "language": "python",
   "name": "python2"
  },
  "language_info": {
   "codemirror_mode": {
    "name": "ipython",
    "version": 2
   },
   "file_extension": ".py",
   "mimetype": "text/x-python",
   "name": "python",
   "nbconvert_exporter": "python",
   "pygments_lexer": "ipython2",
   "version": "2.7.11"
  }
 },
 "nbformat": 4,
 "nbformat_minor": 0
}
