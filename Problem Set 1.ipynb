{
 "cells": [
  {
   "cell_type": "markdown",
   "metadata": {},
   "source": [
    "# Problem 1: Counting Vowels"
   ]
  },
  {
   "cell_type": "markdown",
   "metadata": {},
   "source": [
    "Assume s is a string of lower case characters.\n",
    "\n",
    "Write a program that counts up the number of vowels contained in the string s. \n",
    "Valid vowels are: 'a', 'e', 'i', 'o', and 'u'.\n",
    "\n",
    "**For example, if s = 'azcbobobegghakl', your program should print: \n",
    "Number of vowels: 5**\n",
    "\n",
    "For problems such as these, do not include raw_input statements or define the variable s in any way. \n",
    "Our automated testing will provide a value of s for you - so the code you submit in the following box should assume s is already defined. If you are confused by this instruction, please review L4 Problems 10 and 11 before you begin this problem set."
   ]
  },
  {
   "cell_type": "code",
   "execution_count": 9,
   "metadata": {
    "collapsed": true
   },
   "outputs": [],
   "source": [
    "s = 'azcbobobegghakl123!!~~~AAAAIIII88GGGHH'"
   ]
  },
  {
   "cell_type": "code",
   "execution_count": 10,
   "metadata": {
    "collapsed": false
   },
   "outputs": [
    {
     "name": "stdout",
     "output_type": "stream",
     "text": [
      "Number of vowels: 13\n"
     ]
    }
   ],
   "source": [
    "check = 0\n",
    "s = s.lower()\n",
    "for char in s:\n",
    "    if char=='a' or char=='e' or char=='i' or char=='o' or char=='u':\n",
    "        check = check +1\n",
    "print ('Number of vowels: '+str(check))"
   ]
  },
  {
   "cell_type": "markdown",
   "metadata": {},
   "source": [
    "# Problem 2: Counting 'bob's"
   ]
  },
  {
   "cell_type": "markdown",
   "metadata": {},
   "source": [
    "Assume s is a string of lower case characters.\n",
    "\n",
    "Write a program that prints **the number of times the string 'bob' occurs in s.**\n",
    "\n",
    "**For example, if s = 'azcbobobegghakl', then your program should print\n",
    "Number of times bob occurs is: 2**\n",
    "\n",
    "For problems such as these, do not include raw_input statements or define the variable s in any way. Our automated testing will provide a value of s for you - so the code you submit in the following box should assume s is already defined. If you are confused by this instruction, please review L4 Problems 10 and 11 before you begin this problem set."
   ]
  },
  {
   "cell_type": "code",
   "execution_count": 29,
   "metadata": {
    "collapsed": true
   },
   "outputs": [],
   "source": [
    "s = 'azcbobobegghakl'"
   ]
  },
  {
   "cell_type": "code",
   "execution_count": 30,
   "metadata": {
    "collapsed": false
   },
   "outputs": [
    {
     "name": "stdout",
     "output_type": "stream",
     "text": [
      "2\n"
     ]
    }
   ],
   "source": [
    "count = 0\n",
    "while True:\n",
    "    index = s.find('bob')\n",
    "    if index < 0:\n",
    "        break\n",
    "    else:\n",
    "        count = count+1\n",
    "        s = s[index+2:]\n",
    "print count"
   ]
  },
  {
   "cell_type": "markdown",
   "metadata": {},
   "source": [
    "#  Problem 3: Counting and Grouping"
   ]
  },
  {
   "cell_type": "markdown",
   "metadata": {},
   "source": [
    "A catering company has hired you to help with organizing and preparing customer's orders. You are given a list of each customer's desired items, and must write a program that will count the number of each items needed for the chefs to prepare. The items that a customer can order are: salad, hamburger, and water.\n",
    "\n",
    "Write a function called **item_order** that takes as input a string named** order**. The string contains only words for the items the customer can order separated by one space. The function returns a string that counts the number of each item and consolidates them in the following order: salad:[# salad] hamburger:[# hambruger] water:[# water]\n",
    "\n",
    "If an order does not contain an item, then the count for that item is 0. Notice that each item is formatted as [name of the item][a colon symbol][count of the item] and all item groups are separated by a space.\n",
    "\n",
    "For example:\n",
    "\n",
    "If order = \"salad water hamburger salad hamburger\" then the function returns \"salad:2 hamburger:2 water:1\"\n",
    "If order = \"hamburger water hamburger\" then the function returns \"salad:0 hamburger:2 water:1\""
   ]
  },
  {
   "cell_type": "code",
   "execution_count": 40,
   "metadata": {
    "collapsed": false
   },
   "outputs": [
    {
     "data": {
      "text/plain": [
       "10"
      ]
     },
     "execution_count": 40,
     "metadata": {},
     "output_type": "execute_result"
    }
   ],
   "source": [
    "order = \"hamburger water hamburger\""
   ]
  },
  {
   "cell_type": "code",
   "execution_count": 41,
   "metadata": {
    "collapsed": false
   },
   "outputs": [],
   "source": [
    "def item_order(order):\n",
    "    order.split(\" \")\n",
    "    nsalad = 0\n",
    "    nhamburger = 0\n",
    "    nwater = 0\n",
    "    for i in order:\n",
    "        if i==\"s\":\n",
    "            nsalad = nsalad+1\n",
    "        elif i ==\"w\":\n",
    "            nwater = nwater+1\n",
    "        elif i == \"h\":\n",
    "            nhamburger = nhamburger+1\n",
    "    result = \"salad:%d hamburger:%d water:%d\"%(nsalad,nhamburger,nwater)\n",
    "    return result\n",
    "    "
   ]
  },
  {
   "cell_type": "code",
   "execution_count": 42,
   "metadata": {
    "collapsed": false
   },
   "outputs": [
    {
     "data": {
      "text/plain": [
       "'salad:0 hamburger:2 water:1'"
      ]
     },
     "execution_count": 42,
     "metadata": {},
     "output_type": "execute_result"
    }
   ],
   "source": [
    "item_order(order)"
   ]
  },
  {
   "cell_type": "code",
   "execution_count": null,
   "metadata": {
    "collapsed": true
   },
   "outputs": [],
   "source": []
  }
 ],
 "metadata": {
  "kernelspec": {
   "display_name": "Python 2",
   "language": "python",
   "name": "python2"
  },
  "language_info": {
   "codemirror_mode": {
    "name": "ipython",
    "version": 2
   },
   "file_extension": ".py",
   "mimetype": "text/x-python",
   "name": "python",
   "nbconvert_exporter": "python",
   "pygments_lexer": "ipython2",
   "version": "2.7.11"
  }
 },
 "nbformat": 4,
 "nbformat_minor": 0
}
