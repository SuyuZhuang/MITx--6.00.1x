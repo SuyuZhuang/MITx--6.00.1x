{
 "cells": [
  {
   "cell_type": "markdown",
   "metadata": {},
   "source": [
    "## Each Object has a Type\n",
    "\n",
    "Objects are : \n",
    "\n",
    "        1.Scalar : int, float, bool\n",
    "        2.Non-Scalar: str"
   ]
  },
  {
   "cell_type": "markdown",
   "metadata": {},
   "source": [
    "Expressions: objects + operators\n",
    "        1. +, -, *, /(note), **, %\n",
    "        2. Parentheses\n",
    "        3. Comparison >, >=, <, <=, ==, !=\n",
    "        4. and, or, not a\n",
    "        \n",
    "Type conversions\n",
    "        1. float(3) -- 3.0\n",
    "        2. int(3.9) -- 3"
   ]
  },
  {
   "cell_type": "markdown",
   "metadata": {},
   "source": [
    "Operations on Strings (Operator Overload)\n",
    "\n",
    "        1. 3 * 'a'\n",
    "        2. 'a' + 'b' \n",
    "        3. 'a' + str(123)\n",
    "        4. len('abc)\n",
    "        \n",
    "Extracting parts of strings\n",
    "\n",
    "        1. Indexing  'abc'[0], 'abc'[-1] - 'c'\n",
    "        2. Slicing   'abc'[1:3] - 'bc'"
   ]
  },
  {
   "cell_type": "code",
   "execution_count": 2,
   "metadata": {
    "collapsed": false
   },
   "outputs": [
    {
     "data": {
      "text/plain": [
       "int"
      ]
     },
     "execution_count": 2,
     "metadata": {},
     "output_type": "execute_result"
    }
   ],
   "source": [
    "# objects type\n",
    "type(3)"
   ]
  },
  {
   "cell_type": "code",
   "execution_count": 4,
   "metadata": {
    "collapsed": false
   },
   "outputs": [
    {
     "data": {
      "text/plain": [
       "3"
      ]
     },
     "execution_count": 4,
     "metadata": {},
     "output_type": "execute_result"
    }
   ],
   "source": [
    "int(3.9)"
   ]
  },
  {
   "cell_type": "code",
   "execution_count": 5,
   "metadata": {
    "collapsed": false
   },
   "outputs": [
    {
     "data": {
      "text/plain": [
       "4.41"
      ]
     },
     "execution_count": 5,
     "metadata": {},
     "output_type": "execute_result"
    }
   ],
   "source": [
    "2.1 ** 2.0"
   ]
  },
  {
   "cell_type": "code",
   "execution_count": 7,
   "metadata": {
    "collapsed": false
   },
   "outputs": [
    {
     "data": {
      "text/plain": [
       "6.6000000000000005"
      ]
     },
     "execution_count": 7,
     "metadata": {},
     "output_type": "execute_result"
    }
   ],
   "source": [
    "2.2 * 3.0"
   ]
  },
  {
   "cell_type": "code",
   "execution_count": 8,
   "metadata": {
    "collapsed": false
   },
   "outputs": [
    {
     "data": {
      "text/plain": [
       "3.0"
      ]
     },
     "execution_count": 8,
     "metadata": {},
     "output_type": "execute_result"
    }
   ],
   "source": [
    "round(2.6)"
   ]
  },
  {
   "cell_type": "code",
   "execution_count": 10,
   "metadata": {
    "collapsed": false
   },
   "outputs": [
    {
     "data": {
      "text/plain": [
       "3"
      ]
     },
     "execution_count": 10,
     "metadata": {},
     "output_type": "execute_result"
    }
   ],
   "source": [
    "len('abc')"
   ]
  },
  {
   "cell_type": "code",
   "execution_count": 14,
   "metadata": {
    "collapsed": false
   },
   "outputs": [
    {
     "data": {
      "text/plain": [
       "'elloworl'"
      ]
     },
     "execution_count": 14,
     "metadata": {},
     "output_type": "execute_result"
    }
   ],
   "source": [
    "str1 = 'hello'\n",
    "str2 = ','\n",
    "str3 = 'world'\n",
    "str4 = str1 + str3\n",
    "'a' in str3\n",
    "str3[:-1]\n",
    "str4[1:9]"
   ]
  },
  {
   "cell_type": "markdown",
   "metadata": {},
   "source": [
    "## Simple Scripts\n",
    "\n",
    "    1.print()\n",
    "    2.raw_input()"
   ]
  },
  {
   "cell_type": "code",
   "execution_count": 16,
   "metadata": {
    "collapsed": false
   },
   "outputs": [
    {
     "name": "stdout",
     "output_type": "stream",
     "text": [
      "Enter your name:KK\n"
     ]
    }
   ],
   "source": [
    "name = raw_input('Enter your name:')"
   ]
  },
  {
   "cell_type": "code",
   "execution_count": 17,
   "metadata": {
    "collapsed": false
   },
   "outputs": [
    {
     "data": {
      "text/plain": [
       "'KK'"
      ]
     },
     "execution_count": 17,
     "metadata": {},
     "output_type": "execute_result"
    }
   ],
   "source": [
    "name"
   ]
  },
  {
   "cell_type": "code",
   "execution_count": 18,
   "metadata": {
    "collapsed": false
   },
   "outputs": [
    {
     "name": "stdout",
     "output_type": "stream",
     "text": [
      "9\n",
      "Enter a number:  4\n",
      "16.0\n"
     ]
    }
   ],
   "source": [
    "## Lect 2.5, slide 4\n",
    "## Straight line program\n",
    "\n",
    "x = 3\n",
    "x = x*x\n",
    "print(x)\n",
    "y = float(raw_input('Enter a number:  '))\n",
    "print (y*y)"
   ]
  },
  {
   "cell_type": "markdown",
   "metadata": {},
   "source": [
    "## Branching Programs\n",
    "\n",
    "simplest branching statement: conditional: a test; a block; an optional block"
   ]
  },
  {
   "cell_type": "code",
   "execution_count": 19,
   "metadata": {
    "collapsed": false
   },
   "outputs": [
    {
     "name": "stdout",
     "output_type": "stream",
     "text": [
      "Enter an integer: 4\n",
      " \n",
      "even\n",
      "Done with conditional\n"
     ]
    }
   ],
   "source": [
    "## Lect 2.6, slide 2\n",
    "\n",
    "x = int(raw_input('Enter an integer: '))\n",
    "if x%2 ==0:\n",
    "    print(' ')\n",
    "    print('even')\n",
    "else:\n",
    "    print(' ')\n",
    "    print('odd')\n",
    "print('Done with conditional')"
   ]
  },
  {
   "cell_type": "code",
   "execution_count": 22,
   "metadata": {
    "collapsed": false
   },
   "outputs": [
    {
     "name": "stdout",
     "output_type": "stream",
     "text": [
      "Enter an integer: 5\n",
      "Not divisible by 2 and 3\n"
     ]
    }
   ],
   "source": [
    "## Nested condionals\n",
    "\n",
    "x = int(raw_input('Enter an integer: '))\n",
    "if x%2 == 0:\n",
    "    if x%3 == 0:\n",
    "        print('Divisible by 2 and 3')\n",
    "    else:\n",
    "        print('Divisible by 2 and not by 3')\n",
    "elif x%3 == 0:\n",
    "    print('Divisible by 3 and not by 2')\n",
    "else:\n",
    "    print('Not divisible by 2 and 3')"
   ]
  },
  {
   "cell_type": "code",
   "execution_count": 23,
   "metadata": {
    "collapsed": false
   },
   "outputs": [
    {
     "name": "stdout",
     "output_type": "stream",
     "text": [
      "y is least\n"
     ]
    }
   ],
   "source": [
    "## Compound Booleans\n",
    "\n",
    "x,y,z = 2,4,1\n",
    "if x<y and x<z:\n",
    "    print('x is the least')\n",
    "elif y<z:\n",
    "    print('y is least')\n",
    "else:\n",
    "    print('z is lease')"
   ]
  },
  {
   "cell_type": "code",
   "execution_count": 26,
   "metadata": {
    "collapsed": false
   },
   "outputs": [
    {
     "name": "stdout",
     "output_type": "stream",
     "text": [
      "string involved\n"
     ]
    },
    {
     "data": {
      "text/plain": [
       "str"
      ]
     },
     "execution_count": 26,
     "metadata": {},
     "output_type": "execute_result"
    }
   ],
   "source": [
    "varA = 'kk'\n",
    "varB =9\n",
    "a = type(varA)\n",
    "b = type(varB)\n",
    "if a==str or b==str:\n",
    "    print('string involved')\n",
    "elif varA > varB:\n",
    "    print('bigger')\n",
    "elif varA == varB:\n",
    "    print('equal')\n",
    "else:\n",
    "    print('smaller')"
   ]
  },
  {
   "cell_type": "code",
   "execution_count": null,
   "metadata": {
    "collapsed": true
   },
   "outputs": [],
   "source": []
  }
 ],
 "metadata": {
  "kernelspec": {
   "display_name": "Python 2",
   "language": "python",
   "name": "python2"
  },
  "language_info": {
   "codemirror_mode": {
    "name": "ipython",
    "version": 2
   },
   "file_extension": ".py",
   "mimetype": "text/x-python",
   "name": "python",
   "nbconvert_exporter": "python",
   "pygments_lexer": "ipython2",
   "version": "2.7.11"
  }
 },
 "nbformat": 4,
 "nbformat_minor": 0
}
