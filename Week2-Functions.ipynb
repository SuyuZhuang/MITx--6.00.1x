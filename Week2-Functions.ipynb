{
 "cells": [
  {
   "cell_type": "code",
   "execution_count": 1,
   "metadata": {
    "collapsed": true
   },
   "outputs": [],
   "source": [
    "## L4 PROBLEM 4  \n",
    "## Write a Python function, evalQuadratic(a, b, c, x), that returns the value of the quadratic a⋅x2+b⋅x+c.\n",
    "## This function takes in four numbers and returns a single number.\n",
    "\n",
    "def evalQuadratic(a, b, c, x):\n",
    "    '''\n",
    "    a, b, c: numerical values for the coefficients of a quadratic equation\n",
    "    x: numerical value at which to evaluate the quadratic.\n",
    "    '''\n",
    "    # Your code here\n",
    "    return(a*x**2+b*x+c)"
   ]
  },
  {
   "cell_type": "code",
   "execution_count": 1,
   "metadata": {
    "collapsed": false
   },
   "outputs": [
    {
     "name": "stdout",
     "output_type": "stream",
     "text": [
      "4.99992370605\n",
      "2.99998474121\n",
      "-2.99998474121\n",
      "0.5\n",
      "-0.5\n"
     ]
    }
   ],
   "source": [
    "# From Lecture 4, Understanding Root Finding\n",
    "\n",
    "# root code\n",
    "\n",
    "def findRoot1(x, power, epsilon):\n",
    "    low = 0\n",
    "    high = x\n",
    "    ans = (high+low)/2.0\n",
    "    while abs(ans**power - x) > epsilon:\n",
    "        if ans**power < x:\n",
    "            low = ans\n",
    "        else:\n",
    "            high = ans\n",
    "        ans = (high+low)/2.0\n",
    "    return ans\n",
    "\n",
    "##print findRoot1(25.0, 2, .001)\n",
    "##print findRoot1(27.0, 3, .001)\n",
    "##print findRoot1(-27.0, 3, .001)\n",
    "\n",
    "\n",
    "# so can't find cube root of negative number\n",
    "\n",
    "def findRoot2(x, power, epsilon):\n",
    "    if x < 0 and power%2 == 0:\n",
    "        return None\n",
    "    # can't find even powered root of negative number\n",
    "    low = min(0, x)\n",
    "    high = max(0, x)\n",
    "    ans = (high+low)/2.0\n",
    "    while abs(ans**power - x) > epsilon:\n",
    "        if ans**power < x:\n",
    "            low = ans\n",
    "        else:\n",
    "            high = ans\n",
    "        ans = (high+low)/2.0\n",
    "    return ans\n",
    "\n",
    "##print findRoot2(25.0, 2, .001)\n",
    "##print findRoot2(27.0, 3, .001)\n",
    "##print findRoot2(-27.0, 3, .001)\n",
    "##\n",
    "##print findRoot2(0.25, 2, .001)\n",
    "##print findRoot2(-0.125, 3, .001)\n",
    "\n",
    "def findRoot3(x, power, epsilon):\n",
    "    if x < 0 and power%2 == 0:\n",
    "        return None\n",
    "    # can't find even powered root of negative number\n",
    "    low = min(-1.0, x)\n",
    "    high = max(1.0, x)\n",
    "    ans = (high+low)/2.0\n",
    "    while abs(ans**power - x) > epsilon:\n",
    "        if ans**power < x:\n",
    "            low = ans\n",
    "        else:\n",
    "            high = ans\n",
    "        ans = (high+low)/2.0\n",
    "    return ans\n",
    "\n",
    "print findRoot3(25.0, 2, .001)\n",
    "print findRoot3(27.0, 3, .001)\n",
    "print findRoot3(-27.0, 3, .001)\n",
    "\n",
    "print findRoot3(0.25, 2, .001)\n",
    "print findRoot3(-0.125, 3, .001)\n",
    "\n",
    "def testFindRoot():\n",
    "    epsilon = 0.0001\n",
    "    for x in (0.25, -0.25, 2, -2, 8, -8):\n",
    "        for power in range(1,4):\n",
    "            print('Testing x = ' + str(x) +\\\n",
    "                  ' and power = ' + str(power))\n",
    "            res = findRoot3(x, power, epsilon)\n",
    "            if res == None:\n",
    "                print('    No root')\n",
    "            else:\n",
    "                print('    ' + str(res**power) + ' ~= ' + str(x))\n",
    "\n",
    "\n",
    "\n"
   ]
  },
  {
   "cell_type": "code",
   "execution_count": 2,
   "metadata": {
    "collapsed": false
   },
   "outputs": [
    {
     "data": {
      "text/plain": [
       "3"
      ]
     },
     "execution_count": 2,
     "metadata": {},
     "output_type": "execute_result"
    }
   ],
   "source": [
    "str1 = 'exterminate!' \n",
    "#str2 = 'number one - the larch'\n",
    "#str1.upper()\n",
    "#str1\n",
    "#str1.isupper()\n",
    "#str1.islower()\n",
    "#str2 = str2.capitalize() \n",
    "str2\n",
    "str2.swapcase()\n",
    "str1.index('e')\n",
    "str2\n",
    "str2.find('n')\n",
    "#str2.index('!')\n",
    "str2.find('!')\n",
    "#str1 = str1.replace('e', '*') \n",
    "str1\n",
    "str2.replace('one', 'seven')\n",
    "str1.count(\"e\")"
   ]
  },
  {
   "cell_type": "markdown",
   "metadata": {},
   "source": [
    "###  Complete Programming Experience: polysum"
   ]
  },
  {
   "cell_type": "code",
   "execution_count": 22,
   "metadata": {
    "collapsed": true
   },
   "outputs": [],
   "source": [
    "##  POLYSUM\n",
    "\n",
    "##  Write a function called polysum that takes 2 arguments, n and s. \n",
    "##  This function should sum the area and square of the perimeter of the regular polygon. \n",
    "##  The function returns the sum, rounded to 4 decimal places.\n",
    "import math as m\n",
    "def polysum(n,s):\n",
    "    area = 0.25*n*s**2/m.tan(m.pi/n)\n",
    "    perimeter = n*s\n",
    "    result = area + perimeter**2\n",
    "    return float('%.4f'%result)"
   ]
  },
  {
   "cell_type": "code",
   "execution_count": null,
   "metadata": {
    "collapsed": true
   },
   "outputs": [],
   "source": []
  }
 ],
 "metadata": {
  "kernelspec": {
   "display_name": "Python 2",
   "language": "python",
   "name": "python2"
  },
  "language_info": {
   "codemirror_mode": {
    "name": "ipython",
    "version": 2
   },
   "file_extension": ".py",
   "mimetype": "text/x-python",
   "name": "python",
   "nbconvert_exporter": "python",
   "pygments_lexer": "ipython2",
   "version": "2.7.11"
  }
 },
 "nbformat": 4,
 "nbformat_minor": 0
}
